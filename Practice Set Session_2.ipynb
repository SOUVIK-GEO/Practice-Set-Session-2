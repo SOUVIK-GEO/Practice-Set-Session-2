{
 "cells": [
  {
   "cell_type": "markdown",
   "id": "008ba005",
   "metadata": {},
   "source": [
    "# Write a Python program to sum all the items in a list"
   ]
  },
  {
   "cell_type": "code",
   "execution_count": 2,
   "id": "89fded0c",
   "metadata": {},
   "outputs": [
    {
     "name": "stdout",
     "output_type": "stream",
     "text": [
      "The sum of all elements in l: 582\n"
     ]
    }
   ],
   "source": [
    "l = [23, 87, 97, 199, 37,76, 63]\n",
    "total = 0\n",
    "for ele in range (0, len(l)):\n",
    "    total = total + l[ele]\n",
    "print(\"The sum of all elements in l:\", total)"
   ]
  },
  {
   "cell_type": "markdown",
   "id": "7fac5f3e",
   "metadata": {},
   "source": [
    "# Write a Python program to multiplies all the items in a list"
   ]
  },
  {
   "cell_type": "code",
   "execution_count": 4,
   "id": "4947c016",
   "metadata": {},
   "outputs": [
    {
     "name": "stdout",
     "output_type": "stream",
     "text": [
      "The multiplication of all elements in l: 6842704178268\n"
     ]
    }
   ],
   "source": [
    "l = [23, 87, 97, 199, 37,76, 63]\n",
    "total = 1\n",
    "for ele in range (0, len(l)):\n",
    "    total = total * l[ele]\n",
    "print(\"The multiplication of all elements in l:\", total)"
   ]
  },
  {
   "cell_type": "markdown",
   "id": "fff9b465",
   "metadata": {},
   "source": [
    "# Write a Python program to get the largest number from a list"
   ]
  },
  {
   "cell_type": "code",
   "execution_count": 5,
   "id": "1d06f11a",
   "metadata": {},
   "outputs": [
    {
     "name": "stdout",
     "output_type": "stream",
     "text": [
      "The largest number is: 199\n"
     ]
    }
   ],
   "source": [
    "l = [23, 87, 97, 199, 37,76, 63]\n",
    "l.sort()\n",
    "print(\"The largest number is:\", l[-1])"
   ]
  },
  {
   "cell_type": "markdown",
   "id": "affe84ef",
   "metadata": {},
   "source": [
    "# Write a Python program to get the smallest number from a list"
   ]
  },
  {
   "cell_type": "code",
   "execution_count": 10,
   "id": "fbb2831b",
   "metadata": {},
   "outputs": [
    {
     "name": "stdout",
     "output_type": "stream",
     "text": [
      "The smallest number is: 3\n"
     ]
    }
   ],
   "source": [
    "l = [23, 87, 97, 199, 3,76, 63]\n",
    "l.sort()\n",
    "print(\"The smallest number is:\", l[0])"
   ]
  },
  {
   "cell_type": "markdown",
   "id": "be5feb68",
   "metadata": {},
   "source": [
    "# Write a Python program to count the number of characters in a string"
   ]
  },
  {
   "cell_type": "code",
   "execution_count": 80,
   "id": "5238f7f7",
   "metadata": {},
   "outputs": [
    {
     "name": "stdout",
     "output_type": "stream",
     "text": [
      "{'g': 2, 'o': 3, 'l': 1, 'e': 1, '.': 1, 'c': 1, 'm': 1}\n"
     ]
    }
   ],
   "source": [
    "def char_frequency(str):\n",
    "    dict = {}\n",
    "    for n in str:\n",
    "        keys = dict.keys()\n",
    "        if n in keys:\n",
    "            dict[n] += 1\n",
    "        else:\n",
    "            dict[n] = 1\n",
    "    return dict\n",
    "print(char_frequency('google.com'))"
   ]
  },
  {
   "cell_type": "markdown",
   "id": "e3770760",
   "metadata": {},
   "source": [
    "# Write a Python function that takes a list of words and returns the length of the longest one"
   ]
  },
  {
   "cell_type": "code",
   "execution_count": 38,
   "id": "150819c0",
   "metadata": {},
   "outputs": [
    {
     "name": "stdout",
     "output_type": "stream",
     "text": [
      "The word with the longest length is: Sixteen  and length is  7\n"
     ]
    }
   ],
   "source": [
    "def longestLength(a):\n",
    "    max1 = len(a[0])\n",
    "    temp = a[0]\n",
    " \n",
    "    \n",
    "    for i in a:\n",
    "        if(len(i) > max1):\n",
    " \n",
    "            max1 = len(i)\n",
    "            temp = i\n",
    " \n",
    "    print(\"The word with the longest length is:\", temp,\n",
    "          \" and length is \", max1)\n",
    " \n",
    " \n",
    "\n",
    "a = [\"one\", \"two\", \"third\", \"four\", \"Sixteen\"]\n",
    "longestLength(a)"
   ]
  },
  {
   "cell_type": "markdown",
   "id": "4f733afa",
   "metadata": {},
   "source": [
    "# Write a Python program to sort (ascending and descending) a dictionary by value"
   ]
  },
  {
   "cell_type": "code",
   "execution_count": 31,
   "id": "c05d1f28",
   "metadata": {},
   "outputs": [
    {
     "name": "stdout",
     "output_type": "stream",
     "text": [
      "{'Dhanus': 18, 'Ram': 23, 'Shyam': 37, 'Dipak': 45}\n",
      "{'Dipak': 45, 'Shyam': 37, 'Ram': 23, 'Dhanus': 18}\n"
     ]
    }
   ],
   "source": [
    "input_age = {'Ram': 23, 'Shyam': 37, 'Dhanus': 18, 'Dipak': 45}\n",
    "\n",
    "sort_ascending = dict(sorted(input_age.items(), key=lambda item: item[1], reverse=False))\n",
    "\n",
    "print(sort_ascending)\n",
    "\n",
    "sort_descending = dict(sorted(input_age.items(), key=lambda item: item[1], reverse=True))\n",
    "\n",
    "print(sort_descending)"
   ]
  },
  {
   "cell_type": "markdown",
   "id": "ca6f53a2",
   "metadata": {},
   "source": [
    "# Write a Python program to add key to a dictionary"
   ]
  },
  {
   "cell_type": "code",
   "execution_count": 40,
   "id": "a50b58ab",
   "metadata": {},
   "outputs": [
    {
     "name": "stdout",
     "output_type": "stream",
     "text": [
      "Actual Dict is: {'Ram': 23, 'Shyam': 37, 'Dhanus': 18, 'Dipak': 45}\n",
      "Updated Dict is: {'Ram': 23, 'Shyam': '39', 'Dhanus': 18, 'Dipak': 45, 'Lipika': '24'}\n"
     ]
    }
   ],
   "source": [
    "age_dict = {'Ram': 23, 'Shyam': 37, 'Dhanus': 18, 'Dipak': 45}\n",
    "print(\"Actual Dict is:\", age_dict)\n",
    " \n",
    "age_dict['Shyam'] = '39'\n",
    "age_dict['Lipika'] = '24'\n",
    "print(\"Updated Dict is:\", age_dict)"
   ]
  },
  {
   "cell_type": "markdown",
   "id": "120f2304",
   "metadata": {},
   "source": [
    "# Write a Python program to get a list, sorted in increasing order by the last element in each tuple from a given list of non-empty tuples"
   ]
  },
  {
   "cell_type": "code",
   "execution_count": 61,
   "id": "425e4be0",
   "metadata": {},
   "outputs": [
    {
     "name": "stdout",
     "output_type": "stream",
     "text": [
      "Sorted Increasing Order by last key:\n",
      "[(2, 1), (3, 2), (1, 3)]\n"
     ]
    }
   ],
   "source": [
    "def last(n):\n",
    "    return n[1]  \n",
    "  \n",
    "def sort1(tuples):\n",
    "    return sorted(tuples, key=last)\n",
    "  \n",
    "a=[(1, 3), (3, 2), (2, 1)]\n",
    "print(\"Sorted Increasing Order by last key:\")\n",
    "print(sort1(a))"
   ]
  },
  {
   "cell_type": "markdown",
   "id": "5d38b2af",
   "metadata": {},
   "source": [
    "# Write a Python program to get a list, sorted in increasing order by the First element in each tuple from a given list of non-empty tuples"
   ]
  },
  {
   "cell_type": "code",
   "execution_count": 62,
   "id": "5e71c9dd",
   "metadata": {},
   "outputs": [
    {
     "name": "stdout",
     "output_type": "stream",
     "text": [
      "Sorted Increasing by First key:\n",
      "[(1, 3), (2, 1), (3, 2)]\n"
     ]
    }
   ],
   "source": [
    "def First(n):\n",
    "    return n[0] \n",
    "\n",
    "def sort2(tuples):\n",
    "    return sorted(tuples, key=First)\n",
    "  \n",
    "a=[(1, 3), (3, 2), (2, 1)]\n",
    "print(\"Sorted Increasing by First key:\")\n",
    "print(sort2(a))"
   ]
  },
  {
   "cell_type": "markdown",
   "id": "ac3366ce",
   "metadata": {},
   "source": [
    "# Write a Python program to create a class representing a Circle. Include methods to calculate its area and perimeter"
   ]
  },
  {
   "cell_type": "code",
   "execution_count": 88,
   "id": "ea6f32fe",
   "metadata": {},
   "outputs": [
    {
     "name": "stdout",
     "output_type": "stream",
     "text": [
      "Input the radius of the circle: 78\n",
      "Area of the circle: 19113.4497044403\n",
      "Perimeter of the circle: 490.0884539600077\n"
     ]
    }
   ],
   "source": [
    "import math\n",
    "\n",
    "\n",
    "class Circle:\n",
    "    def __init__(self, radius):\n",
    "        self.radius = radius\n",
    "    \n",
    "    def calculate_circle_area(self):\n",
    "        return math.pi * self.radius**2\n",
    "    \n",
    "    def calculate_circle_perimeter(self):\n",
    "        return 2 * math.pi * self.radius\n",
    "\n",
    "radius = float(input(\"Input the radius of the circle: \"))\n",
    "\n",
    "circle = Circle(radius)\n",
    "\n",
    "area = circle.calculate_circle_area()\n",
    "\n",
    "perimeter = circle.calculate_circle_perimeter()\n",
    "\n",
    "print(\"Area of the circle:\", area)\n",
    "print(\"Perimeter of the circle:\", perimeter) "
   ]
  },
  {
   "cell_type": "markdown",
   "id": "6c11403e",
   "metadata": {},
   "source": [
    "# Write a Python program to create a person class. Include attributes like name, country and date of birth. Implement a method to determine the person's age"
   ]
  },
  {
   "cell_type": "code",
   "execution_count": 26,
   "id": "bad7a4e6",
   "metadata": {},
   "outputs": [
    {
     "name": "stdout",
     "output_type": "stream",
     "text": [
      "Name: Souvik Kundu\n",
      "Country: India\n",
      "Name: Souvik Kundu\n",
      "Country: India\n",
      "Date of Birth: 1995-01-24\n",
      "Age: 29\n"
     ]
    }
   ],
   "source": [
    "from datetime import date\n",
    "class Person:\n",
    "    def __init__(self, name, country, date_of_birth):\n",
    "        self.name = name\n",
    "        self.country = country\n",
    "        self.date_of_birth = date_of_birth\n",
    "    def calculate_age(self):\n",
    "        today = date.today()\n",
    "        age = today.year - self.date_of_birth.year\n",
    "        if today < date(today.year, self.date_of_birth.month, self.date_of_birth.day):\n",
    "            age -= 1\n",
    "        return age\n",
    "name = str(input(\"Name: \"))\n",
    "country = str(input(\"Country: \"))    \n",
    "\n",
    "person1 = Person(name, country, date(1995, 1, 24))\n",
    "\n",
    "print(\"Name:\", person1.name)\n",
    "print(\"Country:\", person1.country)\n",
    "print(\"Date of Birth:\", person1.date_of_birth)\n",
    "print(\"Age:\", person1.calculate_age())"
   ]
  },
  {
   "cell_type": "markdown",
   "id": "f2bc2299",
   "metadata": {},
   "source": [
    "# Write a Python program to create a calculator class. Include methods for basic arithmetic operations"
   ]
  },
  {
   "cell_type": "code",
   "execution_count": 30,
   "id": "1db44e9e",
   "metadata": {},
   "outputs": [
    {
     "name": "stdout",
     "output_type": "stream",
     "text": [
      "Input a greater number: 567\n",
      "Input a lesser number: 67\n",
      "The Greater number: 567.0\n",
      "The Lesser number: 67.0\n",
      "Summation: 634.0\n",
      "Multiplication: 37989.0\n",
      "Substraction: 500.0\n",
      "Divide: 8.462686567164178\n"
     ]
    }
   ],
   "source": [
    "import math\n",
    "class Cal:\n",
    "    def __init__(self, value1, value2):\n",
    "        self.value1 = value1\n",
    "        self.value2 = value2\n",
    "    \n",
    "    def summation(self):\n",
    "        return value1 + value2\n",
    "    \n",
    "    def multiplication(self):\n",
    "        return value1 * value2\n",
    "    \n",
    "    def substraction(self):\n",
    "        return value1 - value2\n",
    "    \n",
    "    def divide(self):\n",
    "        return value1 / value2\n",
    "\n",
    "value1 = float(input(\"Input a greater number: \"))\n",
    "\n",
    "value2 = float(input(\"Input a lesser number: \"))\n",
    "\n",
    "cal = Cal(value1, value2)\n",
    "\n",
    "summation = cal.summation()\n",
    "\n",
    "multiplication = cal.multiplication()\n",
    "\n",
    "substraction = cal.substraction()\n",
    "\n",
    "divide = cal.divide()\n",
    "\n",
    "print(\"The Greater number:\", value1)\n",
    "print(\"The Lesser number:\", value2)\n",
    "print(\"Summation:\", summation)\n",
    "print(\"Multiplication:\", multiplication)\n",
    "print(\"Substraction:\", substraction)\n",
    "print(\"Divide:\", divide)"
   ]
  },
  {
   "cell_type": "markdown",
   "id": "78e84fa1",
   "metadata": {},
   "source": [
    "# Write a Python program to create a class that represents a shape. Include methods to calculate its area and perimeter. Implement subclasses for different shapes like circle, triangle, and square"
   ]
  },
  {
   "cell_type": "code",
   "execution_count": 33,
   "id": "c90bdf5c",
   "metadata": {},
   "outputs": [
    {
     "name": "stdout",
     "output_type": "stream",
     "text": [
      "Enter the Radius:6\n",
      "Radius of the circle: 6.0\n",
      "Circle Area: 113.09733552923255\n",
      "Circle Perimeter: 37.69911184307752\n",
      "Enter the Length of Rectangle:7\n",
      "Enter the Width of Rectangle:8\n",
      "\n",
      "Rectangle: Length = 7.0  Width = 8.0\n",
      "Rectangle Area: 56.0\n",
      "Rectangle Perimeter: 30.0\n",
      "Enter the base of triangle:7\n",
      "Enter the height of triangle:7\n",
      "Enter the Side1 of triangle:8\n",
      "Enter the Side2 of triangle:9\n",
      "Enter the Side3 of triangle:90\n",
      "\n",
      "Triangle: Base = 7.0  Height = 7.0  side1 = 8.0  side2 = 9.0  side3 = 90.0\n",
      "Triangle Area: 24.5\n",
      "Triangle Perimeter: 107.0\n"
     ]
    }
   ],
   "source": [
    "import math\n",
    "\n",
    "\n",
    "class Shape:\n",
    "    \n",
    "    def calculate_area(self):\n",
    "        pass\n",
    "\n",
    "    \n",
    "    def calculate_perimeter(self):\n",
    "        pass\n",
    "\n",
    "\n",
    "class Circle(Shape):\n",
    "    \n",
    "    def __init__(self, radius):\n",
    "        self.radius = radius\n",
    "\n",
    "    \n",
    "    def calculate_area(self):\n",
    "        return math.pi * self.radius**2\n",
    "\n",
    "    \n",
    "    def calculate_perimeter(self):\n",
    "        return 2 * math.pi * self.radius\n",
    "\n",
    "\n",
    "class Rectangle(Shape):\n",
    "    \n",
    "    def __init__(self, length, width):\n",
    "        self.length = length\n",
    "        self.width = width\n",
    "    \n",
    "    def calculate_area(self):\n",
    "        return self.length * self.width\n",
    "\n",
    "    \n",
    "    def calculate_perimeter(self):\n",
    "        return 2 * (self.length + self.width)\n",
    "\n",
    "\n",
    "class Triangle(Shape):\n",
    "    \n",
    "    def __init__(self, base, height, side1, side2, side3):\n",
    "        self.base = base\n",
    "        self.height = height\n",
    "        self.side1 = side1\n",
    "        self.side2 = side2\n",
    "        self.side3 = side3\n",
    "    \n",
    "    def calculate_area(self):\n",
    "        return 0.5 * self.base * self.height\n",
    "\n",
    "    \n",
    "    def calculate_perimeter(self):\n",
    "        return self.side1 + self.side2 + self.side3\n",
    "\n",
    "\n",
    "r = float(input(\"Enter the Radius:\"))\n",
    "circle = Circle(r)\n",
    "circle_area = circle.calculate_area()\n",
    "circle_perimeter = circle.calculate_perimeter()\n",
    "\n",
    "\n",
    "print(\"Radius of the circle:\", r)\n",
    "print(\"Circle Area:\", circle_area)\n",
    "print(\"Circle Perimeter:\", circle_perimeter)\n",
    "\n",
    "\n",
    "l = float(input(\"Enter the Length of Rectangle:\"))\n",
    "w = float(input(\"Enter the Width of Rectangle:\"))\n",
    "rectangle = Rectangle(l, w)\n",
    "rectangle_area = rectangle.calculate_area()\n",
    "rectangle_perimeter = rectangle.calculate_perimeter()\n",
    "\n",
    "\n",
    "print(\"\\nRectangle: Length =\", l, \" Width =\", w)\n",
    "print(\"Rectangle Area:\", rectangle_area)\n",
    "print(\"Rectangle Perimeter:\", rectangle_perimeter)\n",
    "\n",
    "\n",
    "base = float(input(\"Enter the base of triangle:\"))\n",
    "height = float(input(\"Enter the height of triangle:\"))\n",
    "s1 = float(input(\"Enter the Side1 of triangle:\"))\n",
    "s2 = float(input(\"Enter the Side2 of triangle:\"))\n",
    "s3 = float(input(\"Enter the Side3 of triangle:\"))\n",
    "\n",
    "\n",
    "print(\"\\nTriangle: Base =\", base, \" Height =\", height, \" side1 =\", s1, \" side2 =\", s2, \" side3 =\", s3)\n",
    "triangle = Triangle(base, height, s1, s2, s3)\n",
    "triangle_area = triangle.calculate_area()\n",
    "triangle_perimeter = triangle.calculate_perimeter()\n",
    "print(\"Triangle Area:\", triangle_area)\n",
    "print(\"Triangle Perimeter:\", triangle_perimeter)"
   ]
  },
  {
   "cell_type": "markdown",
   "id": "88410ba4",
   "metadata": {},
   "source": [
    "# Write a Python class named Student with two attributes student_name, marks. Modify the attribute values of the said class and print the original and modified values of the said attributes"
   ]
  },
  {
   "cell_type": "code",
   "execution_count": 35,
   "id": "939cfabb",
   "metadata": {},
   "outputs": [
    {
     "name": "stdout",
     "output_type": "stream",
     "text": [
      "Enter the name of student:souvik\n",
      "Enter the marks:56\n",
      "Student Name: souvik\n",
      "Marks: 56.0\n",
      "Enter the name of student:banisha\n",
      "Enter the marks:67\n",
      "Student Name: banisha\n",
      "Marks: 67.0\n"
     ]
    }
   ],
   "source": [
    "class Student:\n",
    "    student_name = str(input(\"Enter the name of student:\"))\n",
    "    marks = float(input(\"Enter the marks:\"))  \n",
    "print(f\"Student Name: {getattr(Student, 'student_name')}\")\n",
    "print(f\"Marks: {getattr(Student, 'marks')}\")\n",
    "modify_name = str(input(\"Enter the name of student:\"))\n",
    "modify_marks = float(input(\"Enter the marks:\")) \n",
    "setattr(Student, 'student_name', modify_name)\n",
    "setattr(Student, 'marks', modify_marks) \n",
    "print(f\"Student Name: {getattr(Student, 'student_name')}\")\n",
    "print(f\"Marks: {getattr(Student, 'marks')}\")\n"
   ]
  },
  {
   "cell_type": "markdown",
   "id": "104e2eca",
   "metadata": {},
   "source": [
    "# Write a Python program to read first n lines of a file"
   ]
  },
  {
   "cell_type": "code",
   "execution_count": 1,
   "id": "eccc6140",
   "metadata": {},
   "outputs": [
    {
     "data": {
      "text/html": [
       "<div>\n",
       "<style scoped>\n",
       "    .dataframe tbody tr th:only-of-type {\n",
       "        vertical-align: middle;\n",
       "    }\n",
       "\n",
       "    .dataframe tbody tr th {\n",
       "        vertical-align: top;\n",
       "    }\n",
       "\n",
       "    .dataframe thead th {\n",
       "        text-align: right;\n",
       "    }\n",
       "</style>\n",
       "<table border=\"1\" class=\"dataframe\">\n",
       "  <thead>\n",
       "    <tr style=\"text-align: right;\">\n",
       "      <th></th>\n",
       "      <th>Country/Region</th>\n",
       "      <th>Confirmed</th>\n",
       "      <th>Deaths</th>\n",
       "      <th>Recovered</th>\n",
       "      <th>Active</th>\n",
       "      <th>New cases</th>\n",
       "      <th>New deaths</th>\n",
       "      <th>New recovered</th>\n",
       "      <th>Deaths / 100 Cases</th>\n",
       "      <th>Recovered / 100 Cases</th>\n",
       "      <th>Deaths / 100 Recovered</th>\n",
       "      <th>Confirmed last week</th>\n",
       "      <th>1 week change</th>\n",
       "      <th>1 week % increase</th>\n",
       "      <th>WHO Region</th>\n",
       "    </tr>\n",
       "  </thead>\n",
       "  <tbody>\n",
       "    <tr>\n",
       "      <th>0</th>\n",
       "      <td>Afghanistan</td>\n",
       "      <td>36263</td>\n",
       "      <td>1269</td>\n",
       "      <td>25198</td>\n",
       "      <td>9796</td>\n",
       "      <td>106</td>\n",
       "      <td>10</td>\n",
       "      <td>18</td>\n",
       "      <td>3.50</td>\n",
       "      <td>69.49</td>\n",
       "      <td>5.04</td>\n",
       "      <td>35526</td>\n",
       "      <td>737</td>\n",
       "      <td>2.07</td>\n",
       "      <td>Eastern Mediterranean</td>\n",
       "    </tr>\n",
       "    <tr>\n",
       "      <th>1</th>\n",
       "      <td>Albania</td>\n",
       "      <td>4880</td>\n",
       "      <td>144</td>\n",
       "      <td>2745</td>\n",
       "      <td>1991</td>\n",
       "      <td>117</td>\n",
       "      <td>6</td>\n",
       "      <td>63</td>\n",
       "      <td>2.95</td>\n",
       "      <td>56.25</td>\n",
       "      <td>5.25</td>\n",
       "      <td>4171</td>\n",
       "      <td>709</td>\n",
       "      <td>17.00</td>\n",
       "      <td>Europe</td>\n",
       "    </tr>\n",
       "    <tr>\n",
       "      <th>2</th>\n",
       "      <td>Algeria</td>\n",
       "      <td>27973</td>\n",
       "      <td>1163</td>\n",
       "      <td>18837</td>\n",
       "      <td>7973</td>\n",
       "      <td>616</td>\n",
       "      <td>8</td>\n",
       "      <td>749</td>\n",
       "      <td>4.16</td>\n",
       "      <td>67.34</td>\n",
       "      <td>6.17</td>\n",
       "      <td>23691</td>\n",
       "      <td>4282</td>\n",
       "      <td>18.07</td>\n",
       "      <td>Africa</td>\n",
       "    </tr>\n",
       "    <tr>\n",
       "      <th>3</th>\n",
       "      <td>Andorra</td>\n",
       "      <td>907</td>\n",
       "      <td>52</td>\n",
       "      <td>803</td>\n",
       "      <td>52</td>\n",
       "      <td>10</td>\n",
       "      <td>0</td>\n",
       "      <td>0</td>\n",
       "      <td>5.73</td>\n",
       "      <td>88.53</td>\n",
       "      <td>6.48</td>\n",
       "      <td>884</td>\n",
       "      <td>23</td>\n",
       "      <td>2.60</td>\n",
       "      <td>Europe</td>\n",
       "    </tr>\n",
       "    <tr>\n",
       "      <th>4</th>\n",
       "      <td>Angola</td>\n",
       "      <td>950</td>\n",
       "      <td>41</td>\n",
       "      <td>242</td>\n",
       "      <td>667</td>\n",
       "      <td>18</td>\n",
       "      <td>1</td>\n",
       "      <td>0</td>\n",
       "      <td>4.32</td>\n",
       "      <td>25.47</td>\n",
       "      <td>16.94</td>\n",
       "      <td>749</td>\n",
       "      <td>201</td>\n",
       "      <td>26.84</td>\n",
       "      <td>Africa</td>\n",
       "    </tr>\n",
       "    <tr>\n",
       "      <th>5</th>\n",
       "      <td>Antigua and Barbuda</td>\n",
       "      <td>86</td>\n",
       "      <td>3</td>\n",
       "      <td>65</td>\n",
       "      <td>18</td>\n",
       "      <td>4</td>\n",
       "      <td>0</td>\n",
       "      <td>5</td>\n",
       "      <td>3.49</td>\n",
       "      <td>75.58</td>\n",
       "      <td>4.62</td>\n",
       "      <td>76</td>\n",
       "      <td>10</td>\n",
       "      <td>13.16</td>\n",
       "      <td>Americas</td>\n",
       "    </tr>\n",
       "    <tr>\n",
       "      <th>6</th>\n",
       "      <td>Argentina</td>\n",
       "      <td>167416</td>\n",
       "      <td>3059</td>\n",
       "      <td>72575</td>\n",
       "      <td>91782</td>\n",
       "      <td>4890</td>\n",
       "      <td>120</td>\n",
       "      <td>2057</td>\n",
       "      <td>1.83</td>\n",
       "      <td>43.35</td>\n",
       "      <td>4.21</td>\n",
       "      <td>130774</td>\n",
       "      <td>36642</td>\n",
       "      <td>28.02</td>\n",
       "      <td>Americas</td>\n",
       "    </tr>\n",
       "    <tr>\n",
       "      <th>7</th>\n",
       "      <td>Armenia</td>\n",
       "      <td>37390</td>\n",
       "      <td>711</td>\n",
       "      <td>26665</td>\n",
       "      <td>10014</td>\n",
       "      <td>73</td>\n",
       "      <td>6</td>\n",
       "      <td>187</td>\n",
       "      <td>1.90</td>\n",
       "      <td>71.32</td>\n",
       "      <td>2.67</td>\n",
       "      <td>34981</td>\n",
       "      <td>2409</td>\n",
       "      <td>6.89</td>\n",
       "      <td>Europe</td>\n",
       "    </tr>\n",
       "    <tr>\n",
       "      <th>8</th>\n",
       "      <td>Australia</td>\n",
       "      <td>15303</td>\n",
       "      <td>167</td>\n",
       "      <td>9311</td>\n",
       "      <td>5825</td>\n",
       "      <td>368</td>\n",
       "      <td>6</td>\n",
       "      <td>137</td>\n",
       "      <td>1.09</td>\n",
       "      <td>60.84</td>\n",
       "      <td>1.79</td>\n",
       "      <td>12428</td>\n",
       "      <td>2875</td>\n",
       "      <td>23.13</td>\n",
       "      <td>Western Pacific</td>\n",
       "    </tr>\n",
       "    <tr>\n",
       "      <th>9</th>\n",
       "      <td>Austria</td>\n",
       "      <td>20558</td>\n",
       "      <td>713</td>\n",
       "      <td>18246</td>\n",
       "      <td>1599</td>\n",
       "      <td>86</td>\n",
       "      <td>1</td>\n",
       "      <td>37</td>\n",
       "      <td>3.47</td>\n",
       "      <td>88.75</td>\n",
       "      <td>3.91</td>\n",
       "      <td>19743</td>\n",
       "      <td>815</td>\n",
       "      <td>4.13</td>\n",
       "      <td>Europe</td>\n",
       "    </tr>\n",
       "  </tbody>\n",
       "</table>\n",
       "</div>"
      ],
      "text/plain": [
       "        Country/Region  Confirmed  Deaths  Recovered  Active  New cases  \\\n",
       "0          Afghanistan      36263    1269      25198    9796        106   \n",
       "1              Albania       4880     144       2745    1991        117   \n",
       "2              Algeria      27973    1163      18837    7973        616   \n",
       "3              Andorra        907      52        803      52         10   \n",
       "4               Angola        950      41        242     667         18   \n",
       "5  Antigua and Barbuda         86       3         65      18          4   \n",
       "6            Argentina     167416    3059      72575   91782       4890   \n",
       "7              Armenia      37390     711      26665   10014         73   \n",
       "8            Australia      15303     167       9311    5825        368   \n",
       "9              Austria      20558     713      18246    1599         86   \n",
       "\n",
       "   New deaths  New recovered  Deaths / 100 Cases  Recovered / 100 Cases  \\\n",
       "0          10             18                3.50                  69.49   \n",
       "1           6             63                2.95                  56.25   \n",
       "2           8            749                4.16                  67.34   \n",
       "3           0              0                5.73                  88.53   \n",
       "4           1              0                4.32                  25.47   \n",
       "5           0              5                3.49                  75.58   \n",
       "6         120           2057                1.83                  43.35   \n",
       "7           6            187                1.90                  71.32   \n",
       "8           6            137                1.09                  60.84   \n",
       "9           1             37                3.47                  88.75   \n",
       "\n",
       "   Deaths / 100 Recovered  Confirmed last week  1 week change  \\\n",
       "0                    5.04                35526            737   \n",
       "1                    5.25                 4171            709   \n",
       "2                    6.17                23691           4282   \n",
       "3                    6.48                  884             23   \n",
       "4                   16.94                  749            201   \n",
       "5                    4.62                   76             10   \n",
       "6                    4.21               130774          36642   \n",
       "7                    2.67                34981           2409   \n",
       "8                    1.79                12428           2875   \n",
       "9                    3.91                19743            815   \n",
       "\n",
       "   1 week % increase             WHO Region  \n",
       "0               2.07  Eastern Mediterranean  \n",
       "1              17.00                 Europe  \n",
       "2              18.07                 Africa  \n",
       "3               2.60                 Europe  \n",
       "4              26.84                 Africa  \n",
       "5              13.16               Americas  \n",
       "6              28.02               Americas  \n",
       "7               6.89                 Europe  \n",
       "8              23.13        Western Pacific  \n",
       "9               4.13                 Europe  "
      ]
     },
     "execution_count": 1,
     "metadata": {},
     "output_type": "execute_result"
    }
   ],
   "source": [
    "import pandas as pd\n",
    "df = pd.read_csv(\"C:/Users/Souvik Kundu/Desktop/5 Weeks Workshop Python July 2024/country_wise_latest.csv\")\n",
    "df.head(10)"
   ]
  },
  {
   "cell_type": "markdown",
   "id": "61f79c1e",
   "metadata": {},
   "source": [
    "# Write a Python program to count the number of lines in a text file"
   ]
  },
  {
   "cell_type": "code",
   "execution_count": 49,
   "id": "00ffe90a",
   "metadata": {},
   "outputs": [
    {
     "name": "stdout",
     "output_type": "stream",
     "text": [
      "Total Number of lines: 188\n"
     ]
    }
   ],
   "source": [
    "with open(r\"C:/Users/Souvik Kundu/Desktop/5 Weeks Workshop Python July 2024/country_wise_latest.csv\", 'r') as fp:\n",
    "    lines = len(fp.readlines())\n",
    "    print('Total Number of lines:', lines)"
   ]
  },
  {
   "cell_type": "markdown",
   "id": "98bac229",
   "metadata": {},
   "source": [
    "# Write a Python program to get the file size of a plain file"
   ]
  },
  {
   "cell_type": "code",
   "execution_count": 52,
   "id": "81f6aadc",
   "metadata": {},
   "outputs": [
    {
     "name": "stdout",
     "output_type": "stream",
     "text": [
      "Size of file : 14784 bytes\n"
     ]
    }
   ],
   "source": [
    "import os\n",
    "file_size = os.stat(\"C:/Users/Souvik Kundu/Desktop/5 Weeks Workshop Python July 2024/country_wise_latest.csv\")\n",
    "print(\"Size of file :\", file_size.st_size, \"bytes\")"
   ]
  },
  {
   "cell_type": "markdown",
   "id": "50837c15",
   "metadata": {},
   "source": [
    "# Write a Python program to write a list to a file"
   ]
  },
  {
   "cell_type": "code",
   "execution_count": 57,
   "id": "088212d0",
   "metadata": {},
   "outputs": [],
   "source": [
    "my_list = [\"Souvik\\n\", \"Kundan\\n\", \"Niloy\\n\", \"Priyanka\\n\"]\n",
    "\n",
    "file1 = open(\"C:/Users/Souvik Kundu/Desktop/5 Weeks Workshop Python July 2024/name.txt\", 'w')\n",
    "file1.writelines(my_list)\n",
    "file1.close()"
   ]
  },
  {
   "cell_type": "markdown",
   "id": "8b6f8b6d",
   "metadata": {},
   "source": [
    "# Write a Python program that takes a text file as input and returns the number of words of a given text file"
   ]
  },
  {
   "cell_type": "code",
   "execution_count": 60,
   "id": "96c1200d",
   "metadata": {},
   "outputs": [
    {
     "name": "stdout",
     "output_type": "stream",
     "text": [
      "4\n"
     ]
    }
   ],
   "source": [
    "number_of_words = 0\n",
    "with open(r'name.txt','r') as file:\n",
    "    data = file.read()\n",
    "    lines = data.split()\n",
    "    number_of_words += len(lines)\n",
    "    print(number_of_words)"
   ]
  },
  {
   "cell_type": "code",
   "execution_count": null,
   "id": "c01e0be9",
   "metadata": {},
   "outputs": [],
   "source": []
  },
  {
   "cell_type": "code",
   "execution_count": null,
   "id": "326d2d4f",
   "metadata": {},
   "outputs": [],
   "source": []
  },
  {
   "cell_type": "code",
   "execution_count": null,
   "id": "63de1248",
   "metadata": {},
   "outputs": [],
   "source": []
  }
 ],
 "metadata": {
  "kernelspec": {
   "display_name": "Python 3 (ipykernel)",
   "language": "python",
   "name": "python3"
  },
  "language_info": {
   "codemirror_mode": {
    "name": "ipython",
    "version": 3
   },
   "file_extension": ".py",
   "mimetype": "text/x-python",
   "name": "python",
   "nbconvert_exporter": "python",
   "pygments_lexer": "ipython3",
   "version": "3.11.5"
  }
 },
 "nbformat": 4,
 "nbformat_minor": 5
}
